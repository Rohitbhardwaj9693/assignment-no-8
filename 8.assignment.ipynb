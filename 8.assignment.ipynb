{
 "cells": [
  {
   "cell_type": "markdown",
   "id": "c1ccb183-b7a3-4757-9be8-4ea2bb2b58cc",
   "metadata": {},
   "source": [
    "Question no :-1\n",
    "\n",
    "what is abbstraction in oops ? explain with an example\n",
    "Ans :- \n",
    "        Abstraction is the process of hiding the internal details  of an \n",
    "        application from the outer world , In simple term abstraction display\n",
    "        only the relevnet attribut of object and hides the unnecessary details\n",
    "        \n",
    "        For Example \n",
    "                    when we are driving a car we are concend about sriving the \n",
    "                    car like start/stop the car accelerate /brake etc \"\"\""
   ]
  },
  {
   "cell_type": "raw",
   "id": "f1a77717-79c3-4d2d-8a2b-b8729d149186",
   "metadata": {},
   "source": []
  },
  {
   "cell_type": "markdown",
   "id": "426e9c2a-b621-46e7-8fe9-9c8133c0a721",
   "metadata": {},
   "source": [
    "Question no :- 2\n",
    "\n",
    "Difference between abstraction and encapulation . Explain with example\n",
    "\n",
    "Ans :-  Abstraction is hiding the details and impliment of the code\n",
    "        \n",
    "        Encapsulation is hiding the data and controling the visibility of the \n",
    "        code \n",
    "        \n",
    "        A real world example of Absteaction\n",
    "        \n",
    "        firstly we take an example of banking application to understand abstraction .supoose you want to develope a bank application and asked to gather all the details of your customer . you may gather some details that are irrrelevnet when develope a bank application hence you have to choose anly valluable information like name ,address ,tax info etc\n",
    "        \n",
    "        \n",
    "        on other hand in the incapsullation \n",
    "        lets we talke a example of mobilephoneu , using smartphone you can performe task like capturing photo recording audio / vidio , listining music .thes feature are common in all smart phone . you dont have to understand the internal working of these  feature "
   ]
  },
  {
   "cell_type": "code",
   "execution_count": null,
   "id": "901b1529-23c9-4afd-abbc-92ab67c78cb6",
   "metadata": {},
   "outputs": [],
   "source": []
  },
  {
   "cell_type": "markdown",
   "id": "60e4f75a-6528-480a-9609-c01e2b406a89",
   "metadata": {},
   "source": [
    "Question no :- 3\n",
    "\n",
    "what is abc module in python ? why is it used \n",
    "\n",
    "\n",
    "Ans :- \n",
    "      This module provide the infracture for defining abstract base class(ABC)\n",
    "      in python call abc ' import abc \n",
    "      @abc.abstractmethod\n",
    "      \n",
    "      \n",
    "      Abstract base class is a class that is used as a bllue print for other\n",
    "      classes "
   ]
  },
  {
   "cell_type": "code",
   "execution_count": null,
   "id": "e00a7357-2baf-4b18-aa35-fc10a2fb7264",
   "metadata": {},
   "outputs": [],
   "source": []
  },
  {
   "cell_type": "markdown",
   "id": "a6b5b586-4b35-4a1c-b9ea-d94599142cbe",
   "metadata": {},
   "source": [
    "Question no :- 4\n",
    "\n",
    "how can we acchive data abstraction \n",
    "\n",
    "\n",
    "Ans:-  in python abstract can be achived by having /using abstract classes and\n",
    "       method in our program .understanding abstract method and class : an \n",
    "       abstract method is a method that is declear but dose not contain \n",
    "       implementation \n",
    "        \n",
    "       abstract is acctived by using the abstract keyword for classes and \n",
    "       interfrance"
   ]
  },
  {
   "cell_type": "code",
   "execution_count": null,
   "id": "2d6e6f84-fa1e-4511-b5d2-c71e52db0da1",
   "metadata": {},
   "outputs": [],
   "source": []
  },
  {
   "cell_type": "markdown",
   "id": "d6af8bbd-5113-47b4-9d90-07ad5dacbbeb",
   "metadata": {},
   "source": [
    "Question no :- 5\n",
    "\n",
    "can we create an instance of an abstract class ? explain your answer\n",
    "\n",
    "\n",
    "Ans:- an abstract class cannot be instantiate .an abstract class may contain \n",
    "      abstract method and accesories .it is possible to modifiy an abstract \n",
    "      class with the sealed modifier because the two modifier have opposit\n",
    "      meaning"
   ]
  }
 ],
 "metadata": {
  "kernelspec": {
   "display_name": "Python 3 (ipykernel)",
   "language": "python",
   "name": "python3"
  },
  "language_info": {
   "codemirror_mode": {
    "name": "ipython",
    "version": 3
   },
   "file_extension": ".py",
   "mimetype": "text/x-python",
   "name": "python",
   "nbconvert_exporter": "python",
   "pygments_lexer": "ipython3",
   "version": "3.10.8"
  }
 },
 "nbformat": 4,
 "nbformat_minor": 5
}
